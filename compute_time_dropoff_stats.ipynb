{
 "cells": [
  {
   "cell_type": "code",
   "execution_count": 2,
   "metadata": {},
   "outputs": [],
   "source": [
    "import networkx as nx\n",
    "import pandas as pd\n",
    "import numpy as np\n",
    "import matplotlib.pyplot as plt\n",
    "import scipy.stats as stats"
   ]
  },
  {
   "cell_type": "code",
   "execution_count": 9,
   "metadata": {},
   "outputs": [
    {
     "name": "stdout",
     "output_type": "stream",
     "text": [
      "SpringRank MSEs for top k rankings:\n",
      "[0, 0.9999999999999999, 0.5, 0.39999999999999997, 0.7, 0.7714285714285715, 0.7857142857142859, 0.523809523809524, 0.5, 0.33333333333333326, 0.2545454545454546, 0.2797202797202798, 0.12637362637362637, 0.09010989010989012, 0.07857142857142857, 0.008823529411764706, 0.03921568627450981, 0.07739938080495357, 0.010526315789473684, 0.04360902255639097, 0.03506493506493507, 0.042348955392433656, 0.04545454545454545, 0.13304347826086957, 0.03461538461538462, 0.009230769230769232, 0.030525030525030524, 0.012588943623426383, 0.05714285714285713, 0.06963292547274749]\n"
     ]
    }
   ],
   "source": [
    "def compare_lists(list1, list2):\n",
    "    # return number of schools in both lists\n",
    "    val =  abs(stats.spearmanr(list1, list2)[0])\n",
    "    if np.isnan(val):\n",
    "        return 0\n",
    "    return val\n",
    "adj = pd.read_csv(\"./running_all_d3.csv\", header=0)\n",
    "labels = adj.columns.tolist()\n",
    "A = adj.values\n",
    "G = nx.DiGraph()\n",
    "for i, u in enumerate(labels):\n",
    "    for j, v in enumerate(labels):\n",
    "        w = A[i, j]\n",
    "        if w != 0:\n",
    "            G.add_edge(u, v, weight=w)\n",
    "def springRank(G, nodelist, alpha=0.1, change_adj = False,change_minus_one=False):\n",
    "    if change_adj:\n",
    "        adj = pd.read_csv(\"./running_all_d3_diff.csv\", header=0)\n",
    "        A = adj.values\n",
    "    else: #just use what we already have \n",
    "        A = nx.to_numpy_array(G, nodelist=nodelist, weight='weight')\n",
    "    k_in = np.sum(A, axis=0)\n",
    "    k_out = np.sum(A, axis=1)\n",
    "    new_sub = np.zeros(len(A))\n",
    "    for i in range(len(A)):\n",
    "        for j in range(len(A[i])):\n",
    "                new_sub[i] += (A[j][i] - A[i][j])\n",
    "    Kin = np.diag(k_in)\n",
    "    Kout = np.diag(k_out)\n",
    "    M = Kout + Kin - (A + A.T) + alpha * np.identity(len(nodelist))\n",
    "    b = (new_sub)\n",
    "    s = np.linalg.solve(M, b)\n",
    "    return dict(zip(nodelist, s))\n",
    "final_rankings = [\n",
    "    \"MIT\", \"U. of Chicago\", \"Williams\", \"NYU\", \"Johns Hopkins\", \"Colorado College\", \"Emory\", \"Washington and Lee\", \"SUNY Geneseo\", \"Washington U.\", \"Claremont-Mudd-Scripps\", \"RPI\", \"Wis.-La Crosse\", \"Amherst\", \"Calvin\", \"Tufts\", \"St. Olaf\", \"Carleton\", \"UC Santa Cruz\", \"Vassar\", \"George Fox\", \"Middlebury\", \"Connecticut College\", \"Wesleyan\", \"Carnegie Mellon\", \"Wartburg\", \"Lynchburg\", \"Trine\", \"DePauw\", \"Pomona-Pitzer\", \"Coast Guard\", \"Rowan\"\n",
    "]\n",
    "def ordered(scores):\n",
    "    pr = dict(zip(labels, scores))\n",
    "    sorted_list = sorted(pr.items(), key=lambda x: x[1], reverse=True)\n",
    "    ordered = []\n",
    "    for i in range(len(final_rankings)):\n",
    "        ordered.append(sorted_list[i][0])\n",
    "    return ordered\n",
    "alpha = 0.1\n",
    "def do_springrank(G):\n",
    "    raw_scores = springRank(G, labels, alpha, change_minus_one=True) \n",
    "    scores = np.array([ raw_scores[node] for node in labels ])\n",
    "    return ordered(scores)\n",
    "def top_k_mse(k, rankings, final_rankings):\n",
    "    \"\"\"\n",
    "    Calculate the mean squared error for the top k rankings.\n",
    "    \"\"\"\n",
    "    mse = compare_lists(rankings[:k], final_rankings[:k])\n",
    "    return mse\n",
    "# print(spring_rankings)\n",
    "springrank_mses = []\n",
    "spring_rankings = do_springrank(G)\n",
    "for k in range(1, 31):\n",
    "    springrank_mse = top_k_mse(k, spring_rankings, final_rankings)\n",
    "    springrank_mses.append(springrank_mse)\n",
    "print(\"SpringRank MSEs for top k rankings:\")\n",
    "print(springrank_mses)"
   ]
  },
  {
   "cell_type": "code",
   "execution_count": null,
   "metadata": {},
   "outputs": [],
   "source": []
  },
  {
   "cell_type": "code",
   "execution_count": null,
   "metadata": {},
   "outputs": [],
   "source": []
  },
  {
   "cell_type": "code",
   "execution_count": null,
   "metadata": {},
   "outputs": [],
   "source": []
  }
 ],
 "metadata": {
  "kernelspec": {
   "display_name": "Python 3",
   "language": "python",
   "name": "python3"
  },
  "language_info": {
   "codemirror_mode": {
    "name": "ipython",
    "version": 3
   },
   "file_extension": ".py",
   "mimetype": "text/x-python",
   "name": "python",
   "nbconvert_exporter": "python",
   "pygments_lexer": "ipython3",
   "version": "3.11.6"
  }
 },
 "nbformat": 4,
 "nbformat_minor": 2
}
